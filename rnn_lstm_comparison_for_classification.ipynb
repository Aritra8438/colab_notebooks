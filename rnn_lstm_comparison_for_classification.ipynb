{
 "cells": [
  {
   "cell_type": "markdown",
   "metadata": {},
   "source": [
    "### Nandini `MDS202335`\n",
    "### Aritra `MCS202304`"
   ]
  },
  {
   "cell_type": "markdown",
   "metadata": {},
   "source": [
    "# Import necessary modules"
   ]
  },
  {
   "cell_type": "code",
   "execution_count": null,
   "metadata": {
    "execution": {
     "iopub.execute_input": "2024-10-31T18:39:09.290426Z",
     "iopub.status.busy": "2024-10-31T18:39:09.290114Z",
     "iopub.status.idle": "2024-10-31T18:39:14.229307Z",
     "shell.execute_reply": "2024-10-31T18:39:14.228535Z",
     "shell.execute_reply.started": "2024-10-31T18:39:09.290393Z"
    },
    "trusted": true
   },
   "outputs": [],
   "source": [
    "import pandas as pd\n",
    "import torch\n",
    "import os\n",
    "import torch.nn as nn\n",
    "import torch.optim as optim\n",
    "from torch.utils.data import Dataset, DataLoader\n",
    "from sklearn.model_selection import train_test_split\n",
    "from sklearn.preprocessing import LabelEncoder\n",
    "from sklearn.feature_extraction.text import TfidfVectorizer\n",
    "from tqdm.notebook import tqdm\n",
    "import matplotlib.pyplot as plt\n",
    "from prettytable import PrettyTable"
   ]
  },
  {
   "cell_type": "code",
   "execution_count": 2,
   "metadata": {
    "execution": {
     "iopub.execute_input": "2024-10-31T18:39:29.551099Z",
     "iopub.status.busy": "2024-10-31T18:39:29.550612Z",
     "iopub.status.idle": "2024-10-31T18:39:29.589291Z",
     "shell.execute_reply": "2024-10-31T18:39:29.588314Z",
     "shell.execute_reply.started": "2024-10-31T18:39:29.551065Z"
    },
    "trusted": true
   },
   "outputs": [
    {
     "name": "stdout",
     "output_type": "stream",
     "text": [
      "cuda\n"
     ]
    }
   ],
   "source": [
    "device = torch.device(\"cuda\" if torch.cuda.is_available() else \"cpu\")\n",
    "print(device)"
   ]
  },
  {
   "cell_type": "code",
   "execution_count": 3,
   "metadata": {
    "execution": {
     "iopub.execute_input": "2024-10-31T18:39:32.934477Z",
     "iopub.status.busy": "2024-10-31T18:39:32.933740Z",
     "iopub.status.idle": "2024-10-31T18:39:32.938499Z",
     "shell.execute_reply": "2024-10-31T18:39:32.937534Z",
     "shell.execute_reply.started": "2024-10-31T18:39:32.934439Z"
    },
    "trusted": true
   },
   "outputs": [],
   "source": [
    "DATA_PATH = \"/kaggle/input/sms-spam-collection-dataset\""
   ]
  },
  {
   "cell_type": "markdown",
   "metadata": {},
   "source": [
    "# Load and Preprocess Data\n",
    "\n",
    "1. **Load Dataset**: The `spam.csv` file is loaded from the specified `DATA_PATH` using `latin1` encoding to handle special characters.\n",
    "2. **Drop Unnecessary Columns**: Columns `\"Unnamed: 2\"`, `\"Unnamed: 3\"`, and `\"Unnamed: 4\"` are removed as they contain no useful information for the analysis.\n",
    "3. **Rename Columns**: The column `\"v1\"` is renamed to `\"category\"`, representing the type of message (e.g., spam or ham), and `\"v2\"` to `\"message\"`, representing the text of the message.\n",
    "4. **Preview Data**: The first 10 rows of the processed data are displayed for inspection.\n"
   ]
  },
  {
   "cell_type": "code",
   "execution_count": 4,
   "metadata": {
    "execution": {
     "iopub.execute_input": "2024-10-31T18:39:33.879636Z",
     "iopub.status.busy": "2024-10-31T18:39:33.878806Z",
     "iopub.status.idle": "2024-10-31T18:39:33.929065Z",
     "shell.execute_reply": "2024-10-31T18:39:33.928184Z",
     "shell.execute_reply.started": "2024-10-31T18:39:33.879596Z"
    },
    "trusted": true
   },
   "outputs": [
    {
     "data": {
      "text/html": [
       "<div>\n",
       "<style scoped>\n",
       "    .dataframe tbody tr th:only-of-type {\n",
       "        vertical-align: middle;\n",
       "    }\n",
       "\n",
       "    .dataframe tbody tr th {\n",
       "        vertical-align: top;\n",
       "    }\n",
       "\n",
       "    .dataframe thead th {\n",
       "        text-align: right;\n",
       "    }\n",
       "</style>\n",
       "<table border=\"1\" class=\"dataframe\">\n",
       "  <thead>\n",
       "    <tr style=\"text-align: right;\">\n",
       "      <th></th>\n",
       "      <th>category</th>\n",
       "      <th>message</th>\n",
       "    </tr>\n",
       "  </thead>\n",
       "  <tbody>\n",
       "    <tr>\n",
       "      <th>0</th>\n",
       "      <td>ham</td>\n",
       "      <td>Go until jurong point, crazy.. Available only ...</td>\n",
       "    </tr>\n",
       "    <tr>\n",
       "      <th>1</th>\n",
       "      <td>ham</td>\n",
       "      <td>Ok lar... Joking wif u oni...</td>\n",
       "    </tr>\n",
       "    <tr>\n",
       "      <th>2</th>\n",
       "      <td>spam</td>\n",
       "      <td>Free entry in 2 a wkly comp to win FA Cup fina...</td>\n",
       "    </tr>\n",
       "    <tr>\n",
       "      <th>3</th>\n",
       "      <td>ham</td>\n",
       "      <td>U dun say so early hor... U c already then say...</td>\n",
       "    </tr>\n",
       "    <tr>\n",
       "      <th>4</th>\n",
       "      <td>ham</td>\n",
       "      <td>Nah I don't think he goes to usf, he lives aro...</td>\n",
       "    </tr>\n",
       "    <tr>\n",
       "      <th>5</th>\n",
       "      <td>spam</td>\n",
       "      <td>FreeMsg Hey there darling it's been 3 week's n...</td>\n",
       "    </tr>\n",
       "    <tr>\n",
       "      <th>6</th>\n",
       "      <td>ham</td>\n",
       "      <td>Even my brother is not like to speak with me. ...</td>\n",
       "    </tr>\n",
       "    <tr>\n",
       "      <th>7</th>\n",
       "      <td>ham</td>\n",
       "      <td>As per your request 'Melle Melle (Oru Minnamin...</td>\n",
       "    </tr>\n",
       "    <tr>\n",
       "      <th>8</th>\n",
       "      <td>spam</td>\n",
       "      <td>WINNER!! As a valued network customer you have...</td>\n",
       "    </tr>\n",
       "    <tr>\n",
       "      <th>9</th>\n",
       "      <td>spam</td>\n",
       "      <td>Had your mobile 11 months or more? U R entitle...</td>\n",
       "    </tr>\n",
       "  </tbody>\n",
       "</table>\n",
       "</div>"
      ],
      "text/plain": [
       "  category                                            message\n",
       "0      ham  Go until jurong point, crazy.. Available only ...\n",
       "1      ham                      Ok lar... Joking wif u oni...\n",
       "2     spam  Free entry in 2 a wkly comp to win FA Cup fina...\n",
       "3      ham  U dun say so early hor... U c already then say...\n",
       "4      ham  Nah I don't think he goes to usf, he lives aro...\n",
       "5     spam  FreeMsg Hey there darling it's been 3 week's n...\n",
       "6      ham  Even my brother is not like to speak with me. ...\n",
       "7      ham  As per your request 'Melle Melle (Oru Minnamin...\n",
       "8     spam  WINNER!! As a valued network customer you have...\n",
       "9     spam  Had your mobile 11 months or more? U R entitle..."
      ]
     },
     "execution_count": 4,
     "metadata": {},
     "output_type": "execute_result"
    }
   ],
   "source": [
    "data = pd.read_csv(os.path.join(DATA_PATH, \"spam.csv\"), encoding='latin1')\n",
    "\n",
    "data = data.drop([\"Unnamed: 2\", \"Unnamed: 3\", \"Unnamed: 4\"], axis = 1)\n",
    "data = data.rename(columns={\"v1\": \"category\", \"v2\": \"message\"})\n",
    "\n",
    "data.head(10)"
   ]
  },
  {
   "cell_type": "markdown",
   "metadata": {},
   "source": [
    "# Visualize Category Distribution (Spam vs Ham)\n",
    "\n",
    "**Count and Plot Categories**: The distribution of messages across categories (`Ham` and `Spam`) is visualized using a pie chart.\n",
    "\n",
    "This plot provides an intuitive view of the class distribution within the dataset, useful for understanding the data balance.\n"
   ]
  },
  {
   "cell_type": "code",
   "execution_count": 5,
   "metadata": {
    "execution": {
     "iopub.execute_input": "2024-10-31T02:51:03.424725Z",
     "iopub.status.busy": "2024-10-31T02:51:03.424331Z",
     "iopub.status.idle": "2024-10-31T02:51:03.688272Z",
     "shell.execute_reply": "2024-10-31T02:51:03.687071Z",
     "shell.execute_reply.started": "2024-10-31T02:51:03.424687Z"
    },
    "trusted": true
   },
   "outputs": [
    {
     "data": {
      "image/png": "[encoded data removed]",
      "text/plain": [
       "<Figure size 600x600 with 1 Axes>"
      ]
     },
     "metadata": {},
     "output_type": "display_data"
    }
   ],
   "source": [
    "data[\"category\"].value_counts().plot(kind = 'pie', explode = [0, 0.1], figsize = (6, 6), autopct = '%1.1f%%', shadow = True)\n",
    "plt.ylabel(\"Spam vs Ham\")\n",
    "plt.legend([\"Ham\", \"Spam\"])\n",
    "plt.show()"
   ]
  },
  {
   "cell_type": "markdown",
   "metadata": {},
   "source": [
    "## Stratified sampling\n",
    "A lot of messages are actually not spam. About 86% of our dataset consists of normal messages.While we split our data set into train and test or when we use cross validation, we will have to use stratified sampling, otherwise we have a chance of our training model being skewed towards normal messages. If the sample we choose to train our model consists majorly of normal messages, it may end up predicting everything as ham and we might not be able to figure this out since most of the messages we get are actually ham and will have a pretty good accuracy (around 86%)."
   ]
  },
  {
   "cell_type": "code",
   "execution_count": 5,
   "metadata": {
    "execution": {
     "iopub.execute_input": "2024-10-31T18:39:40.271397Z",
     "iopub.status.busy": "2024-10-31T18:39:40.271020Z",
     "iopub.status.idle": "2024-10-31T18:39:40.277982Z",
     "shell.execute_reply": "2024-10-31T18:39:40.276977Z",
     "shell.execute_reply.started": "2024-10-31T18:39:40.271359Z"
    },
    "trusted": true
   },
   "outputs": [],
   "source": [
    "X = data['message']\n",
    "y = data['category']\n",
    "\n",
    "label_encoder = LabelEncoder()\n",
    "y = label_encoder.fit_transform(y)"
   ]
  },
  {
   "cell_type": "markdown",
   "metadata": {},
   "source": [
    "# Split Dataset into Training and Testing Sets\n",
    "\n",
    "1. **Split Data**: `train_test_split` divides the dataset into training and testing sets with an 80-20 split.\n",
    "   - `X`: Features (input data).\n",
    "   - `y`: Target labels (output categories).\n",
    "2. **Stratified Sampling**: `stratify=y` ensures that the training and testing sets maintain the same class distribution as the original dataset, preserving balance between categories.\n",
    "This setup prepares the data for training and evaluating the model while maintaining consistent class proportions.\n"
   ]
  },
  {
   "cell_type": "code",
   "execution_count": 6,
   "metadata": {
    "execution": {
     "iopub.execute_input": "2024-10-31T18:39:45.752293Z",
     "iopub.status.busy": "2024-10-31T18:39:45.751925Z",
     "iopub.status.idle": "2024-10-31T18:39:45.764538Z",
     "shell.execute_reply": "2024-10-31T18:39:45.763664Z",
     "shell.execute_reply.started": "2024-10-31T18:39:45.752258Z"
    },
    "trusted": true
   },
   "outputs": [],
   "source": [
    "X_train, X_test, y_train, y_test = train_test_split(X, y, test_size=0.2, stratify = y, random_state=41)"
   ]
  },
  {
   "cell_type": "markdown",
   "metadata": {},
   "source": [
    "# Vectorize Text Data using TF-IDF\n",
    "By using TF-IDF, this approach captures the relative importance of words in messages, improving model performance on text data.\n"
   ]
  },
  {
   "cell_type": "code",
   "execution_count": 9,
   "metadata": {
    "execution": {
     "iopub.execute_input": "2024-10-31T18:40:01.604475Z",
     "iopub.status.busy": "2024-10-31T18:40:01.603629Z",
     "iopub.status.idle": "2024-10-31T18:40:01.955526Z",
     "shell.execute_reply": "2024-10-31T18:40:01.954750Z",
     "shell.execute_reply.started": "2024-10-31T18:40:01.604434Z"
    },
    "trusted": true
   },
   "outputs": [],
   "source": [
    "vectorizer = TfidfVectorizer()\n",
    "X_train_vec = vectorizer.fit_transform(X_train).toarray()\n",
    "X_test_vec = vectorizer.transform(X_test).toarray()"
   ]
  },
  {
   "cell_type": "markdown",
   "metadata": {},
   "source": [
    "# SMS Dataset Class"
   ]
  },
  {
   "cell_type": "code",
   "execution_count": 10,
   "metadata": {
    "execution": {
     "iopub.execute_input": "2024-10-31T18:40:05.720019Z",
     "iopub.status.busy": "2024-10-31T18:40:05.719288Z",
     "iopub.status.idle": "2024-10-31T18:40:05.726273Z",
     "shell.execute_reply": "2024-10-31T18:40:05.725146Z",
     "shell.execute_reply.started": "2024-10-31T18:40:05.719975Z"
    },
    "trusted": true
   },
   "outputs": [],
   "source": [
    "class SMSDataset(Dataset):\n",
    "    def __init__(self, texts, labels):\n",
    "        self.texts = texts\n",
    "        self.labels = labels\n",
    "\n",
    "    def __len__(self):\n",
    "        return len(self.labels)\n",
    "\n",
    "    def __getitem__(self, idx):\n",
    "        return torch.tensor(self.texts[idx], dtype=torch.float32), torch.tensor(self.labels[idx], dtype=torch.long)"
   ]
  },
  {
   "cell_type": "markdown",
   "metadata": {},
   "source": [
    "# Create Datasets and Data Loaders for Model Training\n",
    "\n",
    "1. **Initialize Datasets**:\n",
    "   - `train_dataset`: An instance of `SMSDataset` created using `X_train_vec` and `y_train`.\n",
    "   - `test_dataset`: An instance of `SMSDataset` created using `X_test_vec` and `y_test`.\n",
    "\n",
    "\n",
    "2. **Define Data Loaders**:\n",
    "   - `train_loader`: A `DataLoader` for the training dataset with a batch size of 32.\n",
    "   - `test_loader`: A `DataLoader` for the testing dataset with a batch size of 32.\n"
   ]
  },
  {
   "cell_type": "code",
   "execution_count": 11,
   "metadata": {
    "execution": {
     "iopub.execute_input": "2024-10-31T18:40:08.046317Z",
     "iopub.status.busy": "2024-10-31T18:40:08.045589Z",
     "iopub.status.idle": "2024-10-31T18:40:08.051312Z",
     "shell.execute_reply": "2024-10-31T18:40:08.050278Z",
     "shell.execute_reply.started": "2024-10-31T18:40:08.046279Z"
    },
    "trusted": true
   },
   "outputs": [],
   "source": [
    "train_dataset = SMSDataset(X_train_vec, y_train)\n",
    "test_dataset = SMSDataset(X_test_vec, y_test)\n",
    "\n",
    "train_loader = DataLoader(train_dataset, batch_size=32, shuffle=True)\n",
    "test_loader = DataLoader(test_dataset, batch_size=32, shuffle=False)"
   ]
  },
  {
   "cell_type": "markdown",
   "metadata": {},
   "source": [
    "# RNN Model Class Definition\n",
    "\n",
    "This class defines a simple Recurrent Neural Network (RNN) model for sequence classification.\n",
    "\n",
    "**Initialization**:\n",
    "   - `input_size`:  The TF-IDF vector size.\n",
    "   - `hidden_size`: Number of features in the RNN's hidden state.\n",
    "   - `output_size`: Number of output classes (2 for spam and ham classification).\n",
    "  \n"
   ]
  },
  {
   "cell_type": "code",
   "execution_count": 12,
   "metadata": {
    "execution": {
     "iopub.execute_input": "2024-10-31T18:40:15.030271Z",
     "iopub.status.busy": "2024-10-31T18:40:15.029890Z",
     "iopub.status.idle": "2024-10-31T18:40:15.036723Z",
     "shell.execute_reply": "2024-10-31T18:40:15.035737Z",
     "shell.execute_reply.started": "2024-10-31T18:40:15.030235Z"
    },
    "trusted": true
   },
   "outputs": [],
   "source": [
    "class RNNModel(nn.Module):\n",
    "    def __init__(self, input_size, hidden_size, output_size):\n",
    "        super(RNNModel, self).__init__()\n",
    "        self.rnn = nn.RNN(input_size, hidden_size, batch_first=True)\n",
    "        self.fc = nn.Linear(hidden_size, output_size)\n",
    "\n",
    "    def forward(self, x):\n",
    "        x = x.unsqueeze(1)\n",
    "        out, _ = self.rnn(x)\n",
    "        out = out[:, -1, :]\n",
    "        out = self.fc(out)\n",
    "        return out"
   ]
  },
  {
   "cell_type": "markdown",
   "metadata": {},
   "source": [
    "# LSTM Model Class Definition\n",
    "\n",
    "This class defines a Long Short-Term Memory (LSTM) model for sequence classification.\n",
    "\n",
    "**Initialization**:\n",
    "   - `input_size`:  the TF-IDF vector size.\n",
    "   - `hidden_size`: Number of features in the LSTM's hidden state.\n",
    "   - `output_size`: Number of output classes (2 for spam and ham classification).\n",
    "\n",
    "The LSTM structure allows the model to capture long-term dependencies in the sequence data, which can enhance performance on tasks involving sequential patterns.\n"
   ]
  },
  {
   "cell_type": "code",
   "execution_count": 13,
   "metadata": {
    "execution": {
     "iopub.execute_input": "2024-10-31T18:40:20.557661Z",
     "iopub.status.busy": "2024-10-31T18:40:20.556948Z",
     "iopub.status.idle": "2024-10-31T18:40:20.563685Z",
     "shell.execute_reply": "2024-10-31T18:40:20.562677Z",
     "shell.execute_reply.started": "2024-10-31T18:40:20.557624Z"
    },
    "trusted": true
   },
   "outputs": [],
   "source": [
    "class LSTMModel(nn.Module):\n",
    "    def __init__(self, input_size, hidden_size, output_size):\n",
    "        super(LSTMModel, self).__init__()\n",
    "        self.lstm = nn.LSTM(input_size, hidden_size, batch_first=True)\n",
    "        self.fc = nn.Linear(hidden_size, output_size)\n",
    "\n",
    "    def forward(self, x):\n",
    "        x = x.unsqueeze(1)\n",
    "        out, _ = self.lstm(x)\n",
    "        out = out[:, -1, :]\n",
    "        out = self.fc(out)\n",
    "        return out"
   ]
  },
  {
   "cell_type": "markdown",
   "metadata": {},
   "source": [
    "# Get Number of Parameters in a Model\n",
    "\n",
    "- This function calculates the total number of parameters in a given PyTorch model.\n",
    "\n",
    "- It is useful for comparing model complexity across different architectures.\n"
   ]
  },
  {
   "cell_type": "code",
   "execution_count": 14,
   "metadata": {
    "execution": {
     "iopub.execute_input": "2024-10-31T18:40:29.117550Z",
     "iopub.status.busy": "2024-10-31T18:40:29.116919Z",
     "iopub.status.idle": "2024-10-31T18:40:29.123307Z",
     "shell.execute_reply": "2024-10-31T18:40:29.121651Z",
     "shell.execute_reply.started": "2024-10-31T18:40:29.117510Z"
    },
    "trusted": true
   },
   "outputs": [],
   "source": [
    "def get_n_params(model):\n",
    "    \"\"\"\n",
    "    returns the number of parameters of a model\n",
    "    \"\"\"\n",
    "    np=0\n",
    "    for p in list(model.parameters()):\n",
    "        np += p.nelement()\n",
    "    return np"
   ]
  },
  {
   "cell_type": "markdown",
   "metadata": {},
   "source": [
    "# Model Initialization and Summary\n",
    "\n",
    "1. **Loss Function and Optimizers**: \n",
    "   - Defines a weighted cross-entropy loss function to handle class imbalance.\n",
    "   - Sets up Adam optimizers for both models.\n",
    "  \n",
    "From the `summary table`, we can see that both the `LSTM` and the `RNN` model have about same number of parameters.\n"
   ]
  },
  {
   "cell_type": "code",
   "execution_count": 15,
   "metadata": {
    "execution": {
     "iopub.execute_input": "2024-10-31T18:40:36.031815Z",
     "iopub.status.busy": "2024-10-31T18:40:36.030858Z",
     "iopub.status.idle": "2024-10-31T18:40:37.123318Z",
     "shell.execute_reply": "2024-10-31T18:40:37.122405Z",
     "shell.execute_reply.started": "2024-10-31T18:40:36.031759Z"
    },
    "trusted": true
   },
   "outputs": [
    {
     "name": "stdout",
     "output_type": "stream",
     "text": [
      "+------------+----------------------+\n",
      "|   Model    | Number of Parameters |\n",
      "+------------+----------------------+\n",
      "| RNN Model  |       1012994        |\n",
      "| LSTM Model |       1000514        |\n",
      "+------------+----------------------+\n"
     ]
    }
   ],
   "source": [
    "input_size = X_train_vec.shape[1]\n",
    "hidden_size_rnn = 128\n",
    "hidden_size_lstm = 32\n",
    "output_size = len(label_encoder.classes_)\n",
    "num_epochs = 100\n",
    "learning_rate = 0.001\n",
    "\n",
    "rnn_model = RNNModel(input_size, hidden_size_rnn, output_size).to(device)\n",
    "lstm_model = LSTMModel(input_size, hidden_size_lstm, output_size).to(device)\n",
    "\n",
    "class_weights = torch.tensor([0.14, 0.86], device=device)\n",
    "\n",
    "criterion = nn.CrossEntropyLoss(weight=class_weights)\n",
    "rnn_optimizer = optim.Adam(rnn_model.parameters(), lr=learning_rate)\n",
    "lstm_optimizer = optim.Adam(lstm_model.parameters(), lr=learning_rate)\n",
    "\n",
    "rnn_params = get_n_params(rnn_model)\n",
    "lstm_params = get_n_params(lstm_model)\n",
    "\n",
    "table = PrettyTable()\n",
    "table.field_names = [\"Model\", \"Number of Parameters\"]\n",
    "table.add_row([\"RNN Model\", rnn_params])\n",
    "table.add_row([\"LSTM Model\", lstm_params])\n",
    "\n",
    "print(table)"
   ]
  },
  {
   "cell_type": "markdown",
   "metadata": {},
   "source": [
    "# Model Training Function\n",
    "\n",
    "The `train_model` function trains a PyTorch model over a specified number of epochs using a data loader and an optimizer.\n",
    "\n",
    "- `rnn_losses`: Stores the training losses for the RNN model.\n",
    "- `lstm_losses`: Stores the training losses for the LSTM model.\n"
   ]
  },
  {
   "cell_type": "code",
   "execution_count": 16,
   "metadata": {
    "execution": {
     "iopub.execute_input": "2024-10-31T18:40:48.850543Z",
     "iopub.status.busy": "2024-10-31T18:40:48.849672Z",
     "iopub.status.idle": "2024-10-31T18:42:22.016075Z",
     "shell.execute_reply": "2024-10-31T18:42:22.015140Z",
     "shell.execute_reply.started": "2024-10-31T18:40:48.850493Z"
    },
    "trusted": true
   },
   "outputs": [
    {
     "data": {
      "application/vnd.jupyter.widget-view+json": {
       "model_id": "547c712e22d241119175b678ace6305c",
       "version_major": 2,
       "version_minor": 0
      },
      "text/plain": [
       "Training RNNModel for 100 epochs:   0%|          | 0/100 [00:00<?, ?it/s]"
      ]
     },
     "metadata": {},
     "output_type": "display_data"
    },
    {
     "name": "stdout",
     "output_type": "stream",
     "text": [
      "Epoch [20/100], Loss: 0.0003\n",
      "Epoch [40/100], Loss: 0.0000\n",
      "Epoch [60/100], Loss: 0.0000\n",
      "Epoch [80/100], Loss: 0.0000\n",
      "Epoch [100/100], Loss: 0.0000\n"
     ]
    },
    {
     "data": {
      "application/vnd.jupyter.widget-view+json": {
       "model_id": "ef766dd677b54b5bad02c577099b6015",
       "version_major": 2,
       "version_minor": 0
      },
      "text/plain": [
       "Training LSTMModel for 100 epochs:   0%|          | 0/100 [00:00<?, ?it/s]"
      ]
     },
     "metadata": {},
     "output_type": "display_data"
    },
    {
     "name": "stdout",
     "output_type": "stream",
     "text": [
      "Epoch [20/100], Loss: 0.0011\n",
      "Epoch [40/100], Loss: 0.0001\n",
      "Epoch [60/100], Loss: 0.0000\n",
      "Epoch [80/100], Loss: 0.0000\n",
      "Epoch [100/100], Loss: 0.0000\n"
     ]
    }
   ],
   "source": [
    "def train_model(model, data_loader, optimizer, num_epochs):\n",
    "    \"\"\"\n",
    "    train the model for num_epochs\n",
    "    \"\"\"\n",
    "    model.train()\n",
    "    epoch_losses = []\n",
    "    for epoch in tqdm(range(num_epochs),  desc=f\"Training {model.__class__.__name__} for {num_epochs} epochs\"):\n",
    "        total_loss = 0\n",
    "        for texts, labels in data_loader:\n",
    "            texts, labels = texts.to(device), labels.to(device)\n",
    "\n",
    "            outputs = model(texts)\n",
    "            loss = criterion(outputs, labels)\n",
    "\n",
    "            optimizer.zero_grad()\n",
    "            loss.backward()\n",
    "            optimizer.step()\n",
    "\n",
    "            total_loss += loss.item()\n",
    "\n",
    "        avg_loss = total_loss / len(data_loader)\n",
    "        epoch_losses.append(avg_loss)\n",
    "        \n",
    "        # Print n intrvals\n",
    "        if (epoch-19) % 20 == 0:\n",
    "            print(f\"Epoch [{epoch+1}/{num_epochs}], Loss: {avg_loss:.4f}\")\n",
    "            \n",
    "    return epoch_losses\n",
    "\n",
    "# Train the RNN and the LSTM model\n",
    "\n",
    "rnn_losses = train_model(rnn_model, train_loader, rnn_optimizer, num_epochs)\n",
    "lstm_losses = train_model(lstm_model, train_loader, lstm_optimizer, num_epochs)"
   ]
  },
  {
   "cell_type": "markdown",
   "metadata": {},
   "source": [
    "# Plotting Loss vs. Epochs for RNN and LSTM Models"
   ]
  },
  {
   "cell_type": "code",
   "execution_count": 31,
   "metadata": {
    "execution": {
     "iopub.execute_input": "2024-10-31T03:09:51.027430Z",
     "iopub.status.busy": "2024-10-31T03:09:51.027020Z",
     "iopub.status.idle": "2024-10-31T03:09:51.771305Z",
     "shell.execute_reply": "2024-10-31T03:09:51.770370Z",
     "shell.execute_reply.started": "2024-10-31T03:09:51.027391Z"
    },
    "trusted": true
   },
   "outputs": [
    {
     "name": "stdout",
     "output_type": "stream",
     "text": [
      "\n",
      "Plot loss vs epochs for both the models:\n",
      "\n"
     ]
    },
    {
     "data": {
      "image/png": "[encoded data removed]",
      "text/plain": [
       "<Figure size 1200x600 with 2 Axes>"
      ]
     },
     "metadata": {},
     "output_type": "display_data"
    }
   ],
   "source": [
    "print(\"\\nPlot loss vs epochs for both the models:\\n\")\n",
    "\n",
    "plt.figure(figsize=(12, 6))\n",
    "\n",
    "plt.subplot(1, 2, 1)\n",
    "plt.plot(range(1, num_epochs + 1), rnn_losses, label='RNN Loss', color='b')\n",
    "plt.xlabel(\"Epoch\")\n",
    "plt.ylabel(\"Loss\")\n",
    "plt.title(\"RNN Loss vs. Epoch\")\n",
    "plt.legend()\n",
    "\n",
    "plt.subplot(1, 2, 2)\n",
    "plt.plot(range(1, num_epochs + 1), lstm_losses, label='LSTM Loss', color='r')\n",
    "plt.xlabel(\"Epoch\")\n",
    "plt.ylabel(\"Loss\")\n",
    "plt.title(\"LSTM Loss vs. Epoch\")\n",
    "plt.legend()\n",
    "\n",
    "plt.tight_layout()\n",
    "plt.show()"
   ]
  },
  {
   "cell_type": "markdown",
   "metadata": {},
   "source": [
    "# Model Accuracy Evaluation Functions\n",
    "\n",
    "The code below defines two functions to evaluate the accuracy of a given model and then computes the accuracy for both the RNN and LSTM models considering class imbalance in the dataset.\n",
    "\n",
    "## Functions\n",
    "\n",
    "### 1. `get_accuracy(model, data_loader)`\n",
    "- Computes the standard accuracy of the model on the provided data loader.\n",
    "- Returns the accuracy as a ratio of correct predictions to total samples.\n",
    "\n",
    "### 2. `get_weighted_accuracy(model, data_loader)`\n",
    "- Computes weighted accuracy to account for class imbalance.\n",
    "- Similar to `get_accuracy`, but applies weights:\n",
    "  - Assigns higher weights (86 for spam, 14 for ham) based on the true label when updating the `correct` and `total` counts.\n",
    "- Returns the weighted accuracy.\n",
    " \n"
   ]
  },
  {
   "cell_type": "code",
   "execution_count": 32,
   "metadata": {
    "execution": {
     "iopub.execute_input": "2024-10-31T03:10:16.973233Z",
     "iopub.status.busy": "2024-10-31T03:10:16.972815Z",
     "iopub.status.idle": "2024-10-31T03:10:17.641434Z",
     "shell.execute_reply": "2024-10-31T03:10:17.640472Z",
     "shell.execute_reply.started": "2024-10-31T03:10:16.973193Z"
    },
    "trusted": true
   },
   "outputs": [
    {
     "name": "stdout",
     "output_type": "stream",
     "text": [
      "\n",
      "\n",
      "RNN Test Accuracy: 98.92%\n",
      "LSTM Test Accuracy: 98.83%\n",
      "\n",
      "\n",
      "RNN Test Weighted Accuracy: 96.63%\n",
      "LSTM Test Weighted Accuracy: 96.85%\n"
     ]
    }
   ],
   "source": [
    "def get_accuracy(model, data_loader):\n",
    "    \"\"\"\n",
    "    returns the accuracy score comparing the model output and the predicted output\n",
    "    \"\"\"\n",
    "    model.eval()\n",
    "    correct = 0\n",
    "    total = 0\n",
    "    with torch.no_grad():\n",
    "        for texts, labels in data_loader:\n",
    "            texts, labels = texts.to(device), labels.to(device)\n",
    "            outputs = model(texts)\n",
    "            _, predicted = torch.max(outputs.data, 1)\n",
    "            for idx in range(len(predicted)):\n",
    "                if labels[idx] == 1:\n",
    "                    total += 1\n",
    "                    correct += (predicted[idx] == labels[idx])*1\n",
    "                else:\n",
    "                    total += 1\n",
    "                    correct += (predicted[idx] == labels[idx])*1\n",
    "    return correct / total\n",
    "\n",
    "def get_weighted_accuracy(model, data_loader):\n",
    "    \"\"\"\n",
    "    returns the wighted accuracy where the minority spam class gets higher score\n",
    "    \"\"\"\n",
    "    model.eval()\n",
    "    correct = 0\n",
    "    total = 0\n",
    "    with torch.no_grad():\n",
    "        for texts, labels in data_loader:\n",
    "            texts, labels = texts.to(device), labels.to(device)\n",
    "            outputs = model(texts)\n",
    "            _, predicted = torch.max(outputs.data, 1)\n",
    "            for idx in range(len(predicted)):\n",
    "                if labels[idx] == 1:\n",
    "                    total += 86\n",
    "                    correct += (predicted[idx] == labels[idx])*86\n",
    "                else:\n",
    "                    total += 14\n",
    "                    correct += (predicted[idx] == labels[idx])*14\n",
    "    return correct / total\n",
    "\n",
    "# Evaluate both models\n",
    "rnn_accuracy = get_accuracy(rnn_model, test_loader)\n",
    "lstm_accuracy = get_accuracy(lstm_model, test_loader)\n",
    "\n",
    "rnn_weighted_accuracy = get_weighted_accuracy(rnn_model, test_loader)\n",
    "lstm_weighted_accuracy = get_weighted_accuracy(lstm_model, test_loader)\n",
    "\n",
    "print(\"\\n\")\n",
    "print(f'RNN Test Accuracy: {rnn_accuracy * 100:.2f}%')\n",
    "print(f'LSTM Test Accuracy: {lstm_accuracy * 100:.2f}%')\n",
    "\n",
    "print(\"\\n\")\n",
    "print(f'RNN Test Weighted Accuracy: {rnn_weighted_accuracy * 100:.2f}%')\n",
    "print(f'LSTM Test Weighted Accuracy: {lstm_weighted_accuracy * 100:.2f}%')"
   ]
  },
  {
   "cell_type": "markdown",
   "metadata": {},
   "source": [
    "# Combined Predictions Display for RNN and LSTM Models\n",
    "\n",
    "The `show_combined_examples` function displays the predictions of both RNN and LSTM models on a test dataset alongside the actual labels."
   ]
  },
  {
   "cell_type": "code",
   "execution_count": 33,
   "metadata": {
    "execution": {
     "iopub.execute_input": "2024-10-31T03:10:50.880931Z",
     "iopub.status.busy": "2024-10-31T03:10:50.880554Z",
     "iopub.status.idle": "2024-10-31T03:10:56.172175Z",
     "shell.execute_reply": "2024-10-31T03:10:56.171249Z",
     "shell.execute_reply.started": "2024-10-31T03:10:50.880897Z"
    },
    "trusted": true
   },
   "outputs": [
    {
     "name": "stdout",
     "output_type": "stream",
     "text": [
      "Combined Results for RNN and LSTM\n",
      "+-------------------------------------------------------------------+--------------+---------------+----------------+\n",
      "|                                Text                               | Actual Label | RNN Predicted | LSTM Predicted |\n",
      "+-------------------------------------------------------------------+--------------+---------------+----------------+\n",
      "| 500 80488 account and credit free just ll msgs ok text to we your |     spam     |      spam     |      spam      |\n",
      "|               booked hey lessons liao on sun the ve               |     ham      |      ham      |      ham       |\n",
      "|                  from know snowman songs the yes                  |     ham      |      ham      |      ham       |\n",
      "|                      convey him my regards to                     |     ham      |      ham      |      ham       |\n",
      "|                     many sweets there were yes                    |     ham      |      ham      |      ham       |\n",
      "|  accordingly and just mobile ok on phone send text the word your  |     spam     |      ham      |      spam      |\n",
      "|                     are call can free now you                     |     ham      |      ham      |      spam      |\n",
      "|                        liked mobile new the                       |     ham      |      ham      |      spam      |\n",
      "+-------------------------------------------------------------------+--------------+---------------+----------------+\n"
     ]
    }
   ],
   "source": [
    "def show_combined_examples(rnn_model, lstm_model, data_loader):\n",
    "    \n",
    "    marker = 1\n",
    "    \n",
    "    rnn_model.eval()\n",
    "    lstm_model.eval()\n",
    "    \n",
    "    with torch.no_grad():\n",
    "        table = PrettyTable()\n",
    "        table.field_names = [\"Text\", \"Actual Label\", \"RNN Predicted\", \"LSTM Predicted\"]\n",
    "\n",
    "        different_predictions = []\n",
    "\n",
    "        for texts, labels in data_loader:\n",
    "            texts, labels = texts.to(device), labels.to(device)\n",
    "\n",
    "            rnn_outputs = rnn_model(texts)\n",
    "            _, rnn_predicted = torch.max(rnn_outputs.data, 1)\n",
    "\n",
    "            lstm_outputs = lstm_model(texts)\n",
    "            _, lstm_predicted = torch.max(lstm_outputs.data, 1)\n",
    "            \n",
    "            if marker == 1:\n",
    "                marker = 0\n",
    "                for i in range(5):\n",
    "                    text = vectorizer.inverse_transform(texts[i].cpu().numpy().reshape(1, -1))[0]\n",
    "                    actual_label = label_encoder.inverse_transform([labels[i].item()])[0]\n",
    "                    rnn_predicted_label = label_encoder.inverse_transform([rnn_predicted[i].item()])[0]\n",
    "                    lstm_predicted_label = label_encoder.inverse_transform([lstm_predicted[i].item()])[0]\n",
    "                    \n",
    "                    table.add_row([\n",
    "                        \" \".join(text),\n",
    "                        actual_label,\n",
    "                        rnn_predicted_label,\n",
    "                        lstm_predicted_label\n",
    "                    ])\n",
    "                    \n",
    "\n",
    "            for i in range(texts.size(0)):  # Iterate through all texts in the batch\n",
    "                text = vectorizer.inverse_transform(texts[i].cpu().numpy().reshape(1, -1))[0]\n",
    "                actual_label = label_encoder.inverse_transform([labels[i].item()])[0]\n",
    "                rnn_predicted_label = label_encoder.inverse_transform([rnn_predicted[i].item()])[0]\n",
    "                lstm_predicted_label = label_encoder.inverse_transform([lstm_predicted[i].item()])[0]\n",
    "\n",
    "                # Check if the predictions are different\n",
    "                if rnn_predicted[i] != lstm_predicted[i]:\n",
    "                    different_predictions.append([\n",
    "                        \" \".join(text),\n",
    "                        actual_label,\n",
    "                        rnn_predicted_label,\n",
    "                        lstm_predicted_label\n",
    "                    ])\n",
    "                \n",
    "                \n",
    "                if len(different_predictions) >= 10:\n",
    "                    break\n",
    "            if len(different_predictions) >= 10:\n",
    "                break\n",
    "\n",
    "        for row in different_predictions:\n",
    "            table.add_row(row)\n",
    "\n",
    "    print(table)\n",
    "\n",
    "print(\"Combined Results for RNN and LSTM\")\n",
    "show_combined_examples(rnn_model, lstm_model, test_loader)\n"
   ]
  },
  {
   "cell_type": "markdown",
   "metadata": {},
   "source": [
    "### Conclusion:\n",
    "\n",
    "From the `accuracy` and the `weighted accuracy` measure, we can conclude that:\n",
    "\n",
    "- `RNN` generalizes better compared to `LSTM`, this might be due to the fact that message sequences are not too long, and so, don't require `Long memory` of LSTM.\n",
    "- However, `LSTM` seems to be more robust and useful, because most of the mistakes it did were predicting `ham` as `spam` (which is less malignant). It even has a higher `weighted accuracy`."
   ]
  }
 ],
 "metadata": {
  "kaggle": {
   "accelerator": "gpu",
   "dataSources": [
    {
     "datasetId": 483,
     "sourceId": 982,
     "sourceType": "datasetVersion"
    }
   ],
   "dockerImageVersionId": 30786,
   "isGpuEnabled": true,
   "isInternetEnabled": true,
   "language": "python",
   "sourceType": "notebook"
  },
  "kernelspec": {
   "display_name": "Python 3",
   "language": "python",
   "name": "python3"
  },
  "language_info": {
   "codemirror_mode": {
    "name": "ipython",
    "version": 3
   },
   "file_extension": ".py",
   "mimetype": "text/x-python",
   "name": "python",
   "nbconvert_exporter": "python",
   "pygments_lexer": "ipython3",
   "version": "3.10.14"
  }
 },
 "nbformat": 4,
 "nbformat_minor": 4
}
